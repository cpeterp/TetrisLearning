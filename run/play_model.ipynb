{
 "cells": [
  {
   "cell_type": "code",
   "execution_count": null,
   "metadata": {},
   "outputs": [],
   "source": [
    "import json\n",
    "import multiprocessing\n",
    "from pathlib import Path\n",
    "import sys\n",
    "import time\n",
    "\n",
    "import numpy as np\n",
    "from stable_baselines3 import A2C\n",
    "from stable_baselines3.common.vec_env import SubprocVecEnv, DummyVecEnv\n",
    "import matplotlib.pyplot as plt\n",
    "from IPython import display\n",
    "\n",
    "sys.path.append(str(Path.cwd()/\"run\"))\n",
    "\n",
    "import common as cm\n",
    "import memory_lookup as ml\n",
    "from tetris_gym import TetrisGymEnv, make_env"
   ]
  },
  {
   "cell_type": "code",
   "execution_count": null,
   "metadata": {},
   "outputs": [],
   "source": [
    "%matplotlib inline"
   ]
  },
  {
   "cell_type": "code",
   "execution_count": null,
   "metadata": {},
   "outputs": [],
   "source": [
    "def show_state(dummyenv: DummyVecEnv, step=0, info=\"\"):\n",
    "    env = dummyenv.envs[0]\n",
    "    plt.figure(3)\n",
    "    plt.clf()\n",
    "    plt.imshow(env.render(), cmap='gray', vmin=0, vmax=255)\n",
    "    plt.title(\"%s | Step: %d %s\" % (\"Tetris\", step, info))\n",
    "    plt.axis('off')\n",
    "\n",
    "    display.clear_output(wait=True)\n",
    "    display.display(plt.gcf())"
   ]
  },
  {
   "cell_type": "code",
   "execution_count": null,
   "metadata": {},
   "outputs": [],
   "source": [
    "Path.cwd()"
   ]
  },
  {
   "cell_type": "code",
   "execution_count": null,
   "metadata": {},
   "outputs": [],
   "source": [
    "# Select the latest model\n",
    "# model_paths = [fp for fp in cm.TRAINING_SESSION_DIR.glob(\"*.zip\")]\n",
    "# model_paths.sort(reverse=True)\n",
    "# model_path = model_paths[0]\n",
    "\n",
    "model_path = Path.cwd() / 'data/logs/best_model.zip'\n",
    "\n",
    "print(f\"Loading model {model_path}\")\n",
    "\n",
    "config_path = cm.CONFIG_DIR / \"env_default.json\"\n",
    "with open(config_path, \"rt\") as F:\n",
    "    env_config = json.load(F)\n",
    "    F.close()\n",
    "\n",
    "# DummyVecEnv lets us run the multi cpu env w/ 1 env\n",
    "env = DummyVecEnv([make_env(0, env_config)])\n",
    "model = A2C.load(model_path, env=env)"
   ]
  },
  {
   "cell_type": "code",
   "execution_count": null,
   "metadata": {},
   "outputs": [],
   "source": [
    "obs = env.reset()\n",
    "tot_reward = 0\n",
    "for i in range(1000):\n",
    "    action, _state = model.predict(obs, deterministic=True)\n",
    "    obs, reward, done, info = env.step(action)\n",
    "    tot_reward += reward\n",
    "    show_state(env, i, tot_reward)\n",
    "    # print(np.reshape(obs[\"tilemap\"][0, :], (-1, 10)))\n",
    "    # print(obs[\"rgb_array\"][0][:, :, 0])\n",
    "    # print(\"height\", obs[\"height\"][0, 0])\n",
    "    # print(\"next_shape\", ml.SHAPE_LOOKUP.get(obs[\"next_shape\"][0], None))\n",
    "    # print(info)\n",
    "    # print(i)\n",
    "    # time.sleep(0.001)"
   ]
  }
 ],
 "metadata": {
  "kernelspec": {
   "display_name": "Python 3",
   "language": "python",
   "name": "python3"
  },
  "language_info": {
   "codemirror_mode": {
    "name": "ipython",
    "version": 3
   },
   "file_extension": ".py",
   "mimetype": "text/x-python",
   "name": "python",
   "nbconvert_exporter": "python",
   "pygments_lexer": "ipython3",
   "version": "3.8.18"
  }
 },
 "nbformat": 4,
 "nbformat_minor": 2
}
